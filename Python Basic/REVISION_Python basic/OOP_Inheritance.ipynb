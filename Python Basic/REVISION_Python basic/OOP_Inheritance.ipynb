{
 "cells": [
  {
   "cell_type": "markdown",
   "metadata": {
    "id": "UIdBeXYgxvd2"
   },
   "source": [
    "## Inheritance Classes"
   ]
  },
  {
   "cell_type": "code",
   "execution_count": 1,
   "metadata": {
    "id": "tM_huhcfxvd4"
   },
   "outputs": [],
   "source": [
    "class Person:\n",
    "    def __init__(self,name):\n",
    "        self.name=name\n",
    "\n",
    "    def display_info(self):\n",
    "        print(f\"Name is : {self.name}\")\n"
   ]
  },
  {
   "cell_type": "code",
   "execution_count": 2,
   "metadata": {
    "id": "M2Q7H0DJxvd5"
   },
   "outputs": [],
   "source": [
    "class Student(Person):\n",
    "    def __init__(self,name,grade):\n",
    "        super().__init__(name)\n",
    "        self.grade=grade\n",
    "\n",
    "    def display_info(self):\n",
    "        super().display_info()\n",
    "        print(f\"Grade is : {self.grade}\")\n",
    "\n"
   ]
  },
  {
   "cell_type": "code",
   "execution_count": 3,
   "metadata": {
    "colab": {
     "base_uri": "https://localhost:8080/"
    },
    "id": "lC9gz6Jqxvd5",
    "outputId": "76932801-24f7-4ac9-dec5-ecdc4892d43f"
   },
   "outputs": [
    {
     "name": "stdout",
     "output_type": "stream",
     "text": [
      "Name is : Krish\n",
      "Grade is : A\n"
     ]
    }
   ],
   "source": [
    "student1= Student(\"Krish\",\"A\")\n",
    "student1.display_info()"
   ]
  },
  {
   "cell_type": "code",
   "execution_count": 4,
   "metadata": {
    "id": "kzD8ZcGjxvd5"
   },
   "outputs": [],
   "source": [
    "class Teacher(Person):\n",
    "    def __init__(self,name,subject):\n",
    "        super().__init__(name)\n",
    "        self.subject=subject\n",
    "\n",
    "    def display_info(self):\n",
    "        super().display_info()\n",
    "        print(f\"Subject:{self.subject}\")\n"
   ]
  },
  {
   "cell_type": "code",
   "execution_count": 5,
   "metadata": {
    "colab": {
     "base_uri": "https://localhost:8080/"
    },
    "id": "t4Hyp47Axvd6",
    "outputId": "8bd962f1-0391-4d52-c83c-1e60f1eec669"
   },
   "outputs": [
    {
     "name": "stdout",
     "output_type": "stream",
     "text": [
      "Name is : Krish\n",
      "Subject:AI\n"
     ]
    }
   ],
   "source": [
    "teacher1=Teacher(\"Krish\",\"AI\")\n",
    "teacher1.display_info()"
   ]
  },
  {
   "cell_type": "code",
   "execution_count": null,
   "metadata": {
    "id": "N5ewmzejxvd6"
   },
   "outputs": [],
   "source": [
    "## Create a Vehicle class with attributes brand and method start\n",
    "## create s child class Bicycle and Car additional info model and override the start method"
   ]
  },
  {
   "cell_type": "code",
   "execution_count": 6,
   "metadata": {
    "id": "eA8p8kr7xvd6"
   },
   "outputs": [],
   "source": [
    "class Vehicle:\n",
    "  def __init__(self,brand):\n",
    "    self.brand=brand\n",
    "\n",
    "  def start(self):\n",
    "    print(f\"the {self.brand} is starting\")"
   ]
  },
  {
   "cell_type": "code",
   "execution_count": 7,
   "metadata": {
    "id": "oVcwrkZDxvd6"
   },
   "outputs": [],
   "source": [
    "class Bicycle(Vehicle):\n",
    "  def __init__(self,brand,model):\n",
    "    super().__init__(brand)\n",
    "    self.model=model\n",
    "\n",
    "  def start(self):\n",
    "    super().start()\n",
    "    print(f\"the {self.brand} {self.model} is ready to go\")\n",
    "\n",
    "\n"
   ]
  },
  {
   "cell_type": "code",
   "execution_count": 8,
   "metadata": {
    "colab": {
     "base_uri": "https://localhost:8080/"
    },
    "id": "zvyLbGJDxvd7",
    "outputId": "496213d1-5911-4c90-d890-186d10d412d2"
   },
   "outputs": [
    {
     "name": "stdout",
     "output_type": "stream",
     "text": [
      "the Hero is starting\n",
      "the Hero Gear is ready to go\n"
     ]
    }
   ],
   "source": [
    "bicycle=Bicycle(\"Hero\",\"Gear\")\n",
    "bicycle.start()"
   ]
  },
  {
   "cell_type": "code",
   "execution_count": null,
   "metadata": {
    "id": "8hSyGiTRxvd7"
   },
   "outputs": [],
   "source": [
    "# Base class representing an animal\n",
    "class Animal:\n",
    "    def __init__(self, name):\n",
    "        self.name = name\n",
    "\n",
    "    def sound(self):\n",
    "        pass\n",
    "\n",
    "\n",
    "# Derived class representing a dog (hierarchical inheritance)\n",
    "class Dog(Animal):\n",
    "    def __init__(self, name):\n",
    "        super().__init__(name)\n",
    "\n",
    "    def sound(self):\n",
    "        print(f\"{self.name} barks.\")\n",
    "\n",
    "\n",
    "# Derived class representing a cat (hierarchical inheritance)\n",
    "class Cat(Animal):\n",
    "    def __init__(self, name):\n",
    "        super().__init__(name)\n",
    "\n",
    "    def sound(self):\n",
    "        print(f\"{self.name} meows.\")"
   ]
  },
  {
   "cell_type": "code",
   "execution_count": null,
   "metadata": {
    "id": "_PZmlCRR42b0"
   },
   "outputs": [],
   "source": []
  },
  {
   "cell_type": "code",
   "execution_count": 9,
   "metadata": {
    "id": "ZakLrf9bxvd7"
   },
   "outputs": [],
   "source": [
    "## Access Modifiers\n",
    "## public,private and protected\n"
   ]
  },
  {
   "cell_type": "markdown",
   "metadata": {
    "id": "1mZfw5Lt4hY3"
   },
   "source": [
    "## Public Access Modifier:\n",
    "## The members of a class that are declared public are easily accessible from any part of the program. All data members and member functions of a class are public by default."
   ]
  },
  {
   "cell_type": "code",
   "execution_count": 10,
   "metadata": {
    "id": "AWalfxYKxvd7"
   },
   "outputs": [],
   "source": [
    "class Person:\n",
    "  def __init__(self,name,lastname):\n",
    "    self.name=name\n",
    "    self.lastname=lastname\n",
    "\n",
    "  def display(self):\n",
    "    print(f\"the name is {self.name} and last name is {self.lastname}\")\n"
   ]
  },
  {
   "cell_type": "code",
   "execution_count": 11,
   "metadata": {
    "id": "MjDJGD0-xvd7"
   },
   "outputs": [],
   "source": [
    "person1=Person('Krish','Naik')"
   ]
  },
  {
   "cell_type": "code",
   "execution_count": 12,
   "metadata": {
    "colab": {
     "base_uri": "https://localhost:8080/"
    },
    "id": "z5fzZsyyxvd7",
    "outputId": "f984bd48-199b-44f2-b2ac-ff500c655334"
   },
   "outputs": [
    {
     "data": {
      "text/plain": [
       "['__class__',\n",
       " '__delattr__',\n",
       " '__dict__',\n",
       " '__dir__',\n",
       " '__doc__',\n",
       " '__eq__',\n",
       " '__format__',\n",
       " '__ge__',\n",
       " '__getattribute__',\n",
       " '__gt__',\n",
       " '__hash__',\n",
       " '__init__',\n",
       " '__init_subclass__',\n",
       " '__le__',\n",
       " '__lt__',\n",
       " '__module__',\n",
       " '__ne__',\n",
       " '__new__',\n",
       " '__reduce__',\n",
       " '__reduce_ex__',\n",
       " '__repr__',\n",
       " '__setattr__',\n",
       " '__sizeof__',\n",
       " '__str__',\n",
       " '__subclasshook__',\n",
       " '__weakref__',\n",
       " 'display',\n",
       " 'lastname',\n",
       " 'name']"
      ]
     },
     "execution_count": 12,
     "metadata": {},
     "output_type": "execute_result"
    }
   ],
   "source": [
    "dir(person1)"
   ]
  },
  {
   "cell_type": "code",
   "execution_count": null,
   "metadata": {
    "id": "iaZIx-J-xvd7"
   },
   "outputs": [],
   "source": [
    "## Protected Access Modifier"
   ]
  },
  {
   "cell_type": "code",
   "execution_count": 13,
   "metadata": {
    "id": "mbKtlWcVxvd7"
   },
   "outputs": [],
   "source": [
    "# parent class\n",
    "class Student:\n",
    "  # protected attributes\n",
    "  def __init__(self,name,roll):\n",
    "    self._name=name\n",
    "    self._roll=roll\n",
    "\n",
    "  def _display(self):\n",
    "    print(f\" Name is {self._name} and roll number is {self._roll}\")"
   ]
  },
  {
   "cell_type": "code",
   "execution_count": 14,
   "metadata": {
    "id": "exgLeuXexvd7"
   },
   "outputs": [],
   "source": [
    "student=Student(\"Krish\",123)"
   ]
  },
  {
   "cell_type": "code",
   "execution_count": 15,
   "metadata": {
    "colab": {
     "base_uri": "https://localhost:8080/"
    },
    "id": "fxFa3UPzxvd8",
    "outputId": "da109a1a-e3a7-4642-92f9-89218b287f17"
   },
   "outputs": [
    {
     "data": {
      "text/plain": [
       "['__class__',\n",
       " '__delattr__',\n",
       " '__dict__',\n",
       " '__dir__',\n",
       " '__doc__',\n",
       " '__eq__',\n",
       " '__format__',\n",
       " '__ge__',\n",
       " '__getattribute__',\n",
       " '__gt__',\n",
       " '__hash__',\n",
       " '__init__',\n",
       " '__init_subclass__',\n",
       " '__le__',\n",
       " '__lt__',\n",
       " '__module__',\n",
       " '__ne__',\n",
       " '__new__',\n",
       " '__reduce__',\n",
       " '__reduce_ex__',\n",
       " '__repr__',\n",
       " '__setattr__',\n",
       " '__sizeof__',\n",
       " '__str__',\n",
       " '__subclasshook__',\n",
       " '__weakref__',\n",
       " '_display',\n",
       " '_name',\n",
       " '_roll']"
      ]
     },
     "execution_count": 15,
     "metadata": {},
     "output_type": "execute_result"
    }
   ],
   "source": [
    "dir(student)"
   ]
  },
  {
   "cell_type": "code",
   "execution_count": 18,
   "metadata": {
    "id": "_u2BXL0-xvd8"
   },
   "outputs": [],
   "source": [
    "class Genius(Student):\n",
    "  def __init__(self,name,roll):\n",
    "    super().__init__(name,roll)\n",
    "\n",
    "  def displaydetails(self):\n",
    "    print(f\"Name is :{self._name}\")\n",
    "    self._display()\n",
    "\n"
   ]
  },
  {
   "cell_type": "code",
   "execution_count": 19,
   "metadata": {
    "colab": {
     "base_uri": "https://localhost:8080/"
    },
    "id": "Fa_F1GLvxvd8",
    "outputId": "0212832f-f004-4082-832c-383c9bfbbdb8"
   },
   "outputs": [
    {
     "name": "stdout",
     "output_type": "stream",
     "text": [
      "Name is :Krish\n",
      " Name is Krish and roll number is 123\n"
     ]
    }
   ],
   "source": [
    "genius1=Genius(\"Krish\",123)\n",
    "genius1.displaydetails()"
   ]
  },
  {
   "cell_type": "code",
   "execution_count": 20,
   "metadata": {
    "colab": {
     "base_uri": "https://localhost:8080/"
    },
    "id": "JCYdCU7kxvd8",
    "outputId": "ef62aac6-6501-4ef8-d1ac-baf0ddcd8b8c"
   },
   "outputs": [
    {
     "data": {
      "text/plain": [
       "['__class__',\n",
       " '__delattr__',\n",
       " '__dict__',\n",
       " '__dir__',\n",
       " '__doc__',\n",
       " '__eq__',\n",
       " '__format__',\n",
       " '__ge__',\n",
       " '__getattribute__',\n",
       " '__gt__',\n",
       " '__hash__',\n",
       " '__init__',\n",
       " '__init_subclass__',\n",
       " '__le__',\n",
       " '__lt__',\n",
       " '__module__',\n",
       " '__ne__',\n",
       " '__new__',\n",
       " '__reduce__',\n",
       " '__reduce_ex__',\n",
       " '__repr__',\n",
       " '__setattr__',\n",
       " '__sizeof__',\n",
       " '__str__',\n",
       " '__subclasshook__',\n",
       " '__weakref__',\n",
       " '_display',\n",
       " '_name',\n",
       " '_roll',\n",
       " 'displaydetails']"
      ]
     },
     "execution_count": 20,
     "metadata": {},
     "output_type": "execute_result"
    }
   ],
   "source": [
    "dir(genius1)"
   ]
  },
  {
   "cell_type": "code",
   "execution_count": 21,
   "metadata": {
    "colab": {
     "base_uri": "https://localhost:8080/"
    },
    "id": "ydLNGtwSxvd8",
    "outputId": "2eb55d36-c929-4deb-b180-1e72adcd0fa5"
   },
   "outputs": [
    {
     "name": "stdout",
     "output_type": "stream",
     "text": [
      " Name is Krish and roll number is 123\n"
     ]
    }
   ],
   "source": [
    "genius1._display()"
   ]
  },
  {
   "cell_type": "code",
   "execution_count": 22,
   "metadata": {
    "id": "XFWDL2hoxvd8"
   },
   "outputs": [],
   "source": [
    "# parent class\n",
    "class Student:\n",
    "  # private attributes\n",
    "  def __init__(self,name,roll):\n",
    "    self.__name=name\n",
    "    self.__roll=roll\n",
    "\n",
    "  def __display(self):\n",
    "    print(f\" Name is {self.__name} and roll number is {self.__roll}\")\n",
    "\n",
    "  def display(self):\n",
    "    self.__display()"
   ]
  },
  {
   "cell_type": "code",
   "execution_count": 29,
   "metadata": {
    "id": "XK3OVdaaB5Yg"
   },
   "outputs": [],
   "source": [
    "class Genius(Student):\n",
    "  def __init__(self,name,roll,subject):\n",
    "    super().__init__(name,roll)\n",
    "    self.subject=subject"
   ]
  },
  {
   "cell_type": "code",
   "execution_count": 31,
   "metadata": {
    "id": "opXSDQMuCIf_"
   },
   "outputs": [],
   "source": [
    "genius=Genius(\"Krish\",123,'AI')"
   ]
  },
  {
   "cell_type": "code",
   "execution_count": 33,
   "metadata": {
    "colab": {
     "base_uri": "https://localhost:8080/"
    },
    "id": "DO_xdcwMCS-0",
    "outputId": "9c1c1c35-f2aa-4f23-9e3e-7f875a5351db"
   },
   "outputs": [
    {
     "data": {
      "text/plain": [
       "['_Student__display',\n",
       " '_Student__name',\n",
       " '_Student__roll',\n",
       " '__class__',\n",
       " '__delattr__',\n",
       " '__dict__',\n",
       " '__dir__',\n",
       " '__doc__',\n",
       " '__eq__',\n",
       " '__format__',\n",
       " '__ge__',\n",
       " '__getattribute__',\n",
       " '__gt__',\n",
       " '__hash__',\n",
       " '__init__',\n",
       " '__init_subclass__',\n",
       " '__le__',\n",
       " '__lt__',\n",
       " '__module__',\n",
       " '__ne__',\n",
       " '__new__',\n",
       " '__reduce__',\n",
       " '__reduce_ex__',\n",
       " '__repr__',\n",
       " '__setattr__',\n",
       " '__sizeof__',\n",
       " '__str__',\n",
       " '__subclasshook__',\n",
       " '__weakref__',\n",
       " 'display',\n",
       " 'subject']"
      ]
     },
     "execution_count": 33,
     "metadata": {},
     "output_type": "execute_result"
    }
   ],
   "source": [
    "dir(genius)"
   ]
  },
  {
   "cell_type": "code",
   "execution_count": 24,
   "metadata": {
    "id": "Jkyoo0XQ-PbW"
   },
   "outputs": [],
   "source": [
    "student1=Student(\"Krish\",123)"
   ]
  },
  {
   "cell_type": "code",
   "execution_count": 25,
   "metadata": {
    "colab": {
     "base_uri": "https://localhost:8080/"
    },
    "id": "B19LVUcj-TCj",
    "outputId": "ccac2426-cdb9-46a4-9da6-47930702a321"
   },
   "outputs": [
    {
     "data": {
      "text/plain": [
       "['_Student__display',\n",
       " '_Student__name',\n",
       " '_Student__roll',\n",
       " '__class__',\n",
       " '__delattr__',\n",
       " '__dict__',\n",
       " '__dir__',\n",
       " '__doc__',\n",
       " '__eq__',\n",
       " '__format__',\n",
       " '__ge__',\n",
       " '__getattribute__',\n",
       " '__gt__',\n",
       " '__hash__',\n",
       " '__init__',\n",
       " '__init_subclass__',\n",
       " '__le__',\n",
       " '__lt__',\n",
       " '__module__',\n",
       " '__ne__',\n",
       " '__new__',\n",
       " '__reduce__',\n",
       " '__reduce_ex__',\n",
       " '__repr__',\n",
       " '__setattr__',\n",
       " '__sizeof__',\n",
       " '__str__',\n",
       " '__subclasshook__',\n",
       " '__weakref__',\n",
       " 'display']"
      ]
     },
     "execution_count": 25,
     "metadata": {},
     "output_type": "execute_result"
    }
   ],
   "source": [
    "dir(student1)"
   ]
  },
  {
   "cell_type": "code",
   "execution_count": 28,
   "metadata": {
    "id": "0ZJi5w_K-eb1"
   },
   "outputs": [],
   "source": [
    "student1._Student__name=\"Krishi\""
   ]
  },
  {
   "cell_type": "code",
   "execution_count": 19,
   "metadata": {
    "id": "sNYEa93l-XbN"
   },
   "outputs": [],
   "source": [
    "## Polymorphism\n",
    "## multiple forms\n",
    "\n",
    "class Animal:\n",
    "  def __init__(self,name):\n",
    "    self.name=name\n",
    "\n",
    "  def make_sound(self):\n",
    "    return \"Generic Voice\"\n",
    "\n",
    "class Dog(Animal):\n",
    "\n",
    "  def make_sound(self):\n",
    "    \n",
    "    return super().make_sound()\n",
    "   \n",
    "\n",
    "class Cat(Animal):\n",
    "    def make_sound(self):\n",
    "        return \"Meow!\"\n",
    "\n"
   ]
  },
  {
   "cell_type": "code",
   "execution_count": 20,
   "metadata": {
    "colab": {
     "base_uri": "https://localhost:8080/",
     "height": 35
    },
    "id": "fvt8fh6QEE76",
    "outputId": "01f9ccc5-50b2-40a1-d335-01ff8d5b3ea6"
   },
   "outputs": [
    {
     "data": {
      "text/plain": [
       "'Meow!'"
      ]
     },
     "execution_count": 20,
     "metadata": {},
     "output_type": "execute_result"
    }
   ],
   "source": [
    "cat=Cat('Tom')\n",
    "\n",
    "cat.make_sound()"
   ]
  },
  {
   "cell_type": "code",
   "execution_count": 21,
   "metadata": {
    "colab": {
     "base_uri": "https://localhost:8080/",
     "height": 35
    },
    "id": "pBwZhe75EpSC",
    "outputId": "d5ae69df-1b62-44c8-cd31-a34d7b73b9a1"
   },
   "outputs": [
    {
     "data": {
      "text/plain": [
       "'Generic Voice'"
      ]
     },
     "execution_count": 21,
     "metadata": {},
     "output_type": "execute_result"
    }
   ],
   "source": [
    "dog=Dog(\"Scooby\")\n",
    "dog.make_sound()"
   ]
  },
  {
   "cell_type": "code",
   "execution_count": 18,
   "metadata": {
    "colab": {
     "base_uri": "https://localhost:8080/",
     "height": 35
    },
    "id": "_zgVCO30FPOA",
    "outputId": "e4e4bef2-69c8-46a6-8ccf-59808d2c329c"
   },
   "outputs": [
    {
     "data": {
      "text/plain": [
       "'Generic Voice'"
      ]
     },
     "execution_count": 18,
     "metadata": {},
     "output_type": "execute_result"
    }
   ],
   "source": [
    "Animal('generic animal').make_sound()"
   ]
  },
  {
   "cell_type": "code",
   "execution_count": null,
   "metadata": {
    "id": "s8NPAfOHFaug"
   },
   "outputs": [],
   "source": []
  },
  {
   "cell_type": "markdown",
   "metadata": {
    "id": "MaGV6sJnF3Ix"
   },
   "source": [
    "## Assignments\n",
    "\n",
    "1. the `Person` class has a constructor that takes `name` and `age` as arguments and assigns them to the object's attributes. The `introduce` method is then invoked on the object to introduce the person.\n",
    "\n",
    "2. the `Car` class has a constructor that takes `brand` and `model` as arguments and assigns them to the object's attributes. The `display_info` method is then invoked on the object to display the car's brand and model.\n",
    "\n",
    "3. the `BankAccount` class has a constructor that takes `account_number` and `balance` as arguments and assigns them to the object's attributes. The `display_balance` method is then invoked on the object to display the account number and balance.\n",
    "\n",
    "4.  the `MobilePhone` class has a constructor that takes `brand` and `model` as arguments and assigns them to the object's attributes. The `make_call` method is then invoked on the object to make a call with the phone.\n",
    "\n",
    "5. the `Book` class has a constructor that takes `title` and `author` as arguments and assigns them to the object's attributes. The `display_info` method is then invoked on the object to display the book's title and author.\n",
    "\n",
    "6. Vehicles: Create a base class called Vehicle with attributes such as make, model, and year. Implement two subclasses Car and Motorcycle that inherit from Vehicle. Add additional methods to the subclasses, such as start_engine() and stop_engine(), and handle any specific behavior or rules for each vehicle type.\n",
    "\n",
    "7. Animals: Create a base class called Animal with methods such as eat() and sleep(). Implement two subclasses Dog and Cat that inherit from Animal. Add additional methods to the subclasses, such as bark() for dogs and meow() for cats, and handle any specific behavior or rules for each animal type.\n",
    "\n",
    "8. Library Catalog: Create a base class called LibraryItem with attributes such as title, author, and publication_year. Implement two subclasses Book and Magazine that inherit from LibraryItem. Add additional methods to the subclasses, such as checkout() and return_item(), and handle any specific behavior or rules for each item type.\n",
    "\n",
    "9. Employees and Departments: Create a base class called Employee with attributes such as name, salary, and department. Implement two subclasses Manager and Staff that inherit from Employee. Add additional methods to the subclasses, such as assign_task() for managers and attend_meeting() for staff members. Create a separate class called Department that contains a list of employees and methods to add or remove employees from the department.\n",
    "\n",
    "10. Bank Transactions: Create a base class called BankAccount with attributes such as account_number and balance. Implement subclasses for different types of accounts such as CheckingAccount and SavingsAccount that inherit from BankAccount. Add additional methods to the subclasses, such as withdraw() and deposit(), and handle any specific behavior or rules for each account type.\n",
    "\n",
    "11. School Management System: Create a base class called Person with attributes such as name, age, and address. Implement subclasses for different roles such as Student, Teacher, and Staff that inherit from Person. Add additional methods to the subclasses, such as take_exam() for students and teach_subject() for teachers."
   ]
  },
  {
   "cell_type": "markdown",
   "metadata": {
    "id": "iSFgLL77HCOZ"
   },
   "source": [
    "# 1. Assignment solution"
   ]
  },
  {
   "cell_type": "code",
   "execution_count": 25,
   "metadata": {},
   "outputs": [],
   "source": [
    "class Person():\n",
    "    \"\"\"This is the Person class \"\"\"\n",
    "    \n",
    "    def __init__(self,name,age):\n",
    "        \"\"\"Constructor\"\"\"\n",
    "        \n",
    "        self.name = name\n",
    "        self.age = age \n",
    "        \n",
    "    def Intro(self):\n",
    "        \"\"\"The detail of the person\"\"\"\n",
    "        \n",
    "        print(f\"person name: {self.name} and person age :{self.age}\")"
   ]
  },
  {
   "cell_type": "code",
   "execution_count": 26,
   "metadata": {},
   "outputs": [],
   "source": [
    "Person1 = Person(\"Mohit\",89)"
   ]
  },
  {
   "cell_type": "code",
   "execution_count": 27,
   "metadata": {},
   "outputs": [
    {
     "name": "stdout",
     "output_type": "stream",
     "text": [
      "person name: Mohit and person age :89\n"
     ]
    }
   ],
   "source": [
    "Person1.Intro()"
   ]
  },
  {
   "cell_type": "markdown",
   "metadata": {},
   "source": [
    "# 2. Assignment solution"
   ]
  },
  {
   "cell_type": "code",
   "execution_count": 30,
   "metadata": {},
   "outputs": [],
   "source": [
    "class Car():\n",
    "    \"\"\"This is the Car class\"\"\"\n",
    "    \n",
    "    def __init__(self,brand,model):\n",
    "        \"\"\"Constructor\"\"\"\n",
    "        \n",
    "        self.brand  = brand\n",
    "        self.model = model\n",
    "        \n",
    "    def display_info(self):\n",
    "        \"\"\"Detail of th Car\"\"\"\n",
    "        \n",
    "        print(f\"Brand: {self.brand}, Model:{self.model} \")\n",
    "        "
   ]
  },
  {
   "cell_type": "code",
   "execution_count": 31,
   "metadata": {},
   "outputs": [],
   "source": [
    "car1 = Car('mercedes','S-series')"
   ]
  },
  {
   "cell_type": "code",
   "execution_count": 32,
   "metadata": {},
   "outputs": [
    {
     "name": "stdout",
     "output_type": "stream",
     "text": [
      "Brand: mercedes, Model:S-series \n"
     ]
    }
   ],
   "source": [
    "car1.display_info()"
   ]
  },
  {
   "cell_type": "markdown",
   "metadata": {},
   "source": [
    "# 3. Assignment solution"
   ]
  },
  {
   "cell_type": "code",
   "execution_count": 8,
   "metadata": {},
   "outputs": [],
   "source": [
    "# importing module\n",
    "import logging\n",
    "import csv\n",
    "\n",
    "# Create and configure logger\n",
    "logging.basicConfig(filename=\"newfile.csv\",\n",
    "                    filemode='a',\n",
    "                    format='%(asctime)s,%(msecs)d %(name)s %(levelname)s %(message)s',\n",
    "                    datefmt='%H:%M:%S',\n",
    "                    level=logging.DEBUG)\n",
    "\n",
    "class BankAccount():\n",
    "    \"BankAccount class\"\n",
    "    \n",
    "    def __init__(self,name,accountNumber):\n",
    "        \"\"\"Constructor\"\"\"\n",
    "        \n",
    "        self.name = name \n",
    "        self.accountNumber = accountNumber\n",
    "        self.balance = 0\n",
    "        # Test messages\n",
    "        logging.info(\"amount: {}\".format(self.balance))\n",
    "      \n",
    "        \n",
    "    def deposit(self,amount):\n",
    "        \"\"\"The user deposit amount detail\"\"\"\n",
    "        \n",
    "        self.balance+= amount\n",
    "        print(f\"Your Balance is {self.balance}\")\n",
    "        \n",
    "        logging.info(\"amount deposite : {}\".format(amount))\n",
    "      \n",
    "        \n",
    "        \n",
    "    def withdraw(self,amount):\n",
    "        \"\"\"The user withdraw amount detail\"\"\"\n",
    "        \n",
    "        if amount>self.balance:\n",
    "            print(\"Insufficent balance\")\n",
    "             # Test messages\n",
    "            logging.info(\"insufficent balance: {}\".format(self.balance))\n",
    "\n",
    "        else:\n",
    "            self.balance-= amount\n",
    "            print(f\"Current Balance is {self.balance}\")\n",
    "             # Test messages        \n",
    "            logging.info(\"current balance: {}\".format(self.balance))\n",
    "            \n",
    "            \n",
    "    def display_Information(self):\n",
    "        \"User detail\"\n",
    "        \n",
    "        print('Name: {} \\n Account Number: {} \\n Balance :{}'.format(self.name,self.accountNumber,self.balance))\n",
    "        \n",
    "        \n",
    "    def TranscationHistory(self):\n",
    "        \"\"\" Transcation History Information\"\"\"\n",
    "        \n",
    "        file_object = open(\"newfile.csv\", \"r\")\n",
    "        reader = csv.reader(file_object)\n",
    "        for row in reader:\n",
    "            print(row)\n"
   ]
  },
  {
   "cell_type": "code",
   "execution_count": 2,
   "metadata": {},
   "outputs": [],
   "source": [
    "person1 = BankAccount(\"Yash\",\"9113\")"
   ]
  },
  {
   "cell_type": "code",
   "execution_count": 3,
   "metadata": {},
   "outputs": [
    {
     "name": "stdout",
     "output_type": "stream",
     "text": [
      "Your Balance is 9000\n"
     ]
    }
   ],
   "source": [
    "person1.deposit(9000)"
   ]
  },
  {
   "cell_type": "code",
   "execution_count": 4,
   "metadata": {},
   "outputs": [
    {
     "name": "stdout",
     "output_type": "stream",
     "text": [
      "Current Balance is 8000\n"
     ]
    }
   ],
   "source": [
    "person1.withdraw(1000)"
   ]
  },
  {
   "cell_type": "code",
   "execution_count": 5,
   "metadata": {},
   "outputs": [
    {
     "name": "stdout",
     "output_type": "stream",
     "text": [
      "Name: Yash \n",
      " Account Number: 9113 \n",
      " Balance :8000\n"
     ]
    }
   ],
   "source": [
    "person1.display_Information()"
   ]
  },
  {
   "cell_type": "code",
   "execution_count": 6,
   "metadata": {},
   "outputs": [
    {
     "name": "stdout",
     "output_type": "stream",
     "text": [
      "Insufficent balance\n"
     ]
    }
   ],
   "source": [
    "person1.withdraw(55555)"
   ]
  },
  {
   "cell_type": "code",
   "execution_count": 7,
   "metadata": {},
   "outputs": [
    {
     "name": "stdout",
     "output_type": "stream",
     "text": [
      "['16:24:16', '285 root INFO amount: 0']\n",
      "['16:24:16', '631 root INFO amount deposite : 9000']\n",
      "['16:24:16', '970 root INFO current balance: 8000']\n",
      "['16:24:17', '743 root INFO insufficent balance: 8000']\n"
     ]
    }
   ],
   "source": [
    "person1.TranscationHistory()"
   ]
  },
  {
   "cell_type": "markdown",
   "metadata": {},
   "source": [
    "# 4. Assignment solution"
   ]
  },
  {
   "cell_type": "code",
   "execution_count": 23,
   "metadata": {},
   "outputs": [],
   "source": [
    "class MobilePhone():\n",
    "    \"\"\"Mobile Phone class for calling and detail of mobile\"\"\"\n",
    "    \n",
    "    def __init__(self,brand,model):\n",
    "        \"\"\"Constructor\"\"\"\n",
    "        \n",
    "        self.brand = brand \n",
    "        self.model = model \n",
    "        \n",
    "    def MakeCall(self,name):\n",
    "        \"\"\"This Method is used for calling \"\"\"\n",
    "        \n",
    "        print(\"Making call to {}!\".format(name))\n",
    "    \n",
    "    def MobileDetail(self):\n",
    "        \"\"\"Mobile Detail\"\"\"\n",
    "        \n",
    "        print(\"Brand: {},\\nModel: {}\".format(self.brand,self.model))\n",
    "        "
   ]
  },
  {
   "cell_type": "code",
   "execution_count": 24,
   "metadata": {},
   "outputs": [],
   "source": [
    "phone1 = MobilePhone(\"Nokia\",\"S89\")"
   ]
  },
  {
   "cell_type": "code",
   "execution_count": 25,
   "metadata": {},
   "outputs": [
    {
     "name": "stdout",
     "output_type": "stream",
     "text": [
      "Making call to Mahesh!\n"
     ]
    }
   ],
   "source": [
    "phone1.MakeCall(\"Mahesh\")"
   ]
  },
  {
   "cell_type": "code",
   "execution_count": 26,
   "metadata": {},
   "outputs": [
    {
     "name": "stdout",
     "output_type": "stream",
     "text": [
      "Brand: Nokia,\n",
      "Model: S89\n"
     ]
    }
   ],
   "source": [
    "phone1.MobileDetail()"
   ]
  },
  {
   "cell_type": "markdown",
   "metadata": {},
   "source": [
    "# 5. Assignment solution"
   ]
  },
  {
   "cell_type": "code",
   "execution_count": 2,
   "metadata": {},
   "outputs": [],
   "source": [
    "class Book():\n",
    "    \"\"\"Mobile Phone class for calling and detail of mobile\"\"\"\n",
    "    \n",
    "    def __init__(self,title,author):\n",
    "        \"\"\"Constructor\"\"\"\n",
    "        \n",
    "        self.title  = title \n",
    "        self.author = author \n",
    "        \n",
    "    def Display_info(self):\n",
    "        \"\"\"This Method is used for detail \"\"\"\n",
    "        \n",
    "        print(\"Title: {},\\nAuthor: {}\".format(self.title,self.author))\n",
    "    "
   ]
  },
  {
   "cell_type": "code",
   "execution_count": 3,
   "metadata": {},
   "outputs": [],
   "source": [
    "book1 = Book(\"Rich Dad and Poor Dad\", \"Robert T. Kiyosaki\")"
   ]
  },
  {
   "cell_type": "code",
   "execution_count": 4,
   "metadata": {},
   "outputs": [
    {
     "name": "stdout",
     "output_type": "stream",
     "text": [
      "Title: Rich Dad and Poor Dad,\n",
      "Author: Robert T. Kiyosaki\n"
     ]
    }
   ],
   "source": [
    "book1.Display_info()"
   ]
  },
  {
   "cell_type": "markdown",
   "metadata": {},
   "source": [
    "# 6. Assignment solution"
   ]
  },
  {
   "cell_type": "code",
   "execution_count": 22,
   "metadata": {},
   "outputs": [],
   "source": [
    "class Vehicles():\n",
    "    def __init__(self,make,model,year):\n",
    "        self.make = make \n",
    "        self.model = model\n",
    "        self.year = year \n"
   ]
  },
  {
   "cell_type": "code",
   "execution_count": 27,
   "metadata": {},
   "outputs": [],
   "source": [
    "class Car(Vehicles):\n",
    "    def __init__(self,make,model,year,Leather_seats,Disc_Brakes,Shock_Absorber):\n",
    "        super().__init__(make,model,year)\n",
    "        self.Leather_seats  = Leather_seats\n",
    "        self.Disc_Brakes = Disc_Brakes\n",
    "        self.Shock_Absorber = Shock_Absorber\n",
    "    def intro(self):\n",
    "        print(\"make: {},\\nmodel: {},\\nyear: {},\\nLeather_seats: {},\\nDisc_Brakes: {},\\nShock_Absorbers: {}\".format(self.make ,self.model, self.year,self.Leather_seats,self.Disc_Brakes, self.Shock_Absorber))\n",
    "        \n"
   ]
  },
  {
   "cell_type": "code",
   "execution_count": 34,
   "metadata": {},
   "outputs": [],
   "source": [
    "class Motorcycle(Vehicles):\n",
    "    def __init__(self,make,model,year,Trip_meter,Fuel_tank,Pass_light):\n",
    "        super().__init__(make,model,year)\n",
    "        self.Trip_meter     = Trip_meter\n",
    "        self.Fuel_tank      = Fuel_tank\n",
    "        self.Pass_light     = Pass_light\n",
    "       \n",
    "    def intro(self):\n",
    "        print(\"make: {},\\nmodel: {},\\nyear: {},\\nTrip meter: {},\\nFuel Tank: {},\\nPass light: {}\".format(self.make ,self.model, self.year,self.Trip_meter,  self.Fuel_tank,self.Pass_light ))"
   ]
  },
  {
   "cell_type": "code",
   "execution_count": 35,
   "metadata": {},
   "outputs": [],
   "source": [
    "car1 = Car(\"Honda\",\"AWS2\",2003,\"Yes\",\"Yes\",\"Yes\")\n",
    "motorcycle = Motorcycle(\"Mercedes\",\"S-series\",2023,\"yes\",\"20 Litre\", \"Yes\")"
   ]
  },
  {
   "cell_type": "code",
   "execution_count": 36,
   "metadata": {},
   "outputs": [
    {
     "name": "stdout",
     "output_type": "stream",
     "text": [
      "make: Honda,\n",
      "model: AWS2,\n",
      "year: 2003,\n",
      "Leather_seats: Yes,\n",
      "Disc_Brakes: Yes,\n",
      "Shock_Absorbers: Yes\n"
     ]
    }
   ],
   "source": [
    "car1.intro()"
   ]
  },
  {
   "cell_type": "code",
   "execution_count": 37,
   "metadata": {},
   "outputs": [
    {
     "name": "stdout",
     "output_type": "stream",
     "text": [
      "make: Mercedes,\n",
      "model: S-series,\n",
      "year: 2023,\n",
      "Trip meter: yes,\n",
      "Fuel Tank: 20 Litre,\n",
      "Pass light: Yes\n"
     ]
    }
   ],
   "source": [
    "motorcycle.intro()"
   ]
  },
  {
   "cell_type": "markdown",
   "metadata": {},
   "source": [
    "# 7. Assignment solution"
   ]
  },
  {
   "cell_type": "code",
   "execution_count": 44,
   "metadata": {},
   "outputs": [],
   "source": [
    "class Animal():\n",
    "    \n",
    "    def __init__(self):\n",
    "        pass\n",
    "    \n",
    "    def Eat(self,eat):\n",
    "        print(\"eating : {}\".format(eat))\n",
    "        \n",
    "    def Sleep(self,sleep):\n",
    "        print(\"sleeping hour : {}\".format(sleep))\n",
    "    "
   ]
  },
  {
   "cell_type": "code",
   "execution_count": 45,
   "metadata": {},
   "outputs": [],
   "source": [
    "class Dog(Animal):\n",
    "    \n",
    "    def __init__(self):\n",
    "        pass\n",
    "    \n",
    "    def bark(self):\n",
    "        print(\"BOw-Bow\")\n",
    "    \n",
    "    def intro(self,eat,sleep):\n",
    "        super().Eat(eat)\n",
    "        super().Sleep(sleep)\n",
    "    "
   ]
  },
  {
   "cell_type": "code",
   "execution_count": 46,
   "metadata": {},
   "outputs": [],
   "source": [
    "Dog1 = Dog()"
   ]
  },
  {
   "cell_type": "code",
   "execution_count": 47,
   "metadata": {},
   "outputs": [
    {
     "name": "stdout",
     "output_type": "stream",
     "text": [
      "eating : 9kg\n",
      "sleeping hour : 8hr\n"
     ]
    }
   ],
   "source": [
    "Dog1.intro(\"9kg\",\"8hr\")"
   ]
  },
  {
   "cell_type": "code",
   "execution_count": 48,
   "metadata": {},
   "outputs": [],
   "source": [
    "class Cat(Animal):\n",
    "    \n",
    "    def __init__(self):\n",
    "        pass\n",
    "    \n",
    "    def Meow(self):\n",
    "        print(\"Meow\")\n",
    "    \n",
    "    def intro(self,eat,sleep):\n",
    "        super().Eat(eat)\n",
    "        super().Sleep(sleep)\n",
    "    "
   ]
  },
  {
   "cell_type": "code",
   "execution_count": 49,
   "metadata": {},
   "outputs": [],
   "source": [
    "Cat1 =Cat()"
   ]
  },
  {
   "cell_type": "code",
   "execution_count": 50,
   "metadata": {},
   "outputs": [
    {
     "name": "stdout",
     "output_type": "stream",
     "text": [
      "eating : 9kg\n",
      "sleeping hour : 8hr\n"
     ]
    }
   ],
   "source": [
    "Cat1.intro(\"9kg\",\"8hr\")"
   ]
  },
  {
   "cell_type": "markdown",
   "metadata": {},
   "source": [
    "# 8. Assignment solution"
   ]
  },
  {
   "cell_type": "code",
   "execution_count": 51,
   "metadata": {},
   "outputs": [],
   "source": [
    "class LibraryItem():\n",
    "    def __init__(self,title,author,Publish_year):\n",
    "        self.title = title\n",
    "        self.author = author\n",
    "        self.Publish_year = Publish_year\n",
    "        \n"
   ]
  },
  {
   "cell_type": "code",
   "execution_count": 68,
   "metadata": {},
   "outputs": [],
   "source": [
    "class Book(LibraryItem):\n",
    "    def __init__(self,title,author,Publish_year,number_Book):\n",
    "        super().__init__(title,author,Publish_year)\n",
    "        self.number_Book = number_Book\n",
    "        \n",
    "    def CheckOut(self):\n",
    "        print(\"Cheout Book : {}\".format(title))\n",
    "        \n",
    "    def ReturnItem(self,name):\n",
    "        print(\"Return Item : {}\".format(title))\n",
    "        \n",
    "    def detail(self):\n",
    "        print(\"book : {},\\nAuthor : {},\\nPublish:{},\\nnumber_Book:{}\".format(self.title,self.author,self.Publish_year,self.number_Book))"
   ]
  },
  {
   "cell_type": "code",
   "execution_count": 69,
   "metadata": {},
   "outputs": [],
   "source": [
    "class Magazine(LibraryItem):\n",
    "    def __init__(self,title,author,Publish_year,number_magazine):\n",
    "        super().__init__(title,author,Publish_year)\n",
    "        self.number_magazine = number_magazine\n",
    "        \n",
    "    def CheckOut(self):\n",
    "        print(\"Cheout Book : {}\".format(title))\n",
    "        \n",
    "    def ReturnItem(self,name):\n",
    "        print(\"Return Item : {}\".format(title))\n",
    "        \n",
    "    def detail(self):\n",
    "        print(\"book : {},\\nAuthor : {},\\nPublish:{},\\nnumber_Magazine:{}\".format(self.title,self.author,self.Publish_year,self.number_magazine))"
   ]
  },
  {
   "cell_type": "code",
   "execution_count": 70,
   "metadata": {},
   "outputs": [],
   "source": [
    "book1 = Book(\"Adventures of Tom Sawyer\",\" Mark Twain\",2013,5)\n",
    "magazine1 = Magazine(\"Space story\",\"Tony stark\",2913,8)"
   ]
  },
  {
   "cell_type": "code",
   "execution_count": 71,
   "metadata": {},
   "outputs": [
    {
     "name": "stdout",
     "output_type": "stream",
     "text": [
      "book : Adventures of Tom Sawyer,\n",
      "Author :  Mark Twain,\n",
      "Publish:2013,\n",
      "number_Book:5\n"
     ]
    }
   ],
   "source": [
    "book1.detail()"
   ]
  },
  {
   "cell_type": "code",
   "execution_count": 72,
   "metadata": {},
   "outputs": [
    {
     "name": "stdout",
     "output_type": "stream",
     "text": [
      "book : Space story,\n",
      "Author : Tony stark,\n",
      "Publish:2913,\n",
      "number_Magazine:8\n"
     ]
    }
   ],
   "source": [
    "magazine1.detail()"
   ]
  },
  {
   "cell_type": "markdown",
   "metadata": {},
   "source": [
    "# 9. assignment solution"
   ]
  },
  {
   "cell_type": "code",
   "execution_count": 62,
   "metadata": {},
   "outputs": [],
   "source": [
    "class Department():\n",
    "    def __init__(self):\n",
    "        self.List_Of_Employees = []\n",
    "        \n",
    "    def Add_Employ(self,name):\n",
    "        self.List_Of_Employees.append(name)\n",
    "        \n",
    "    def Remove_Employ(self,remove):\n",
    "        deleted = [self.List_Of_Employees.remove(i) for i in self.List_Of_Employees if remove == i]\n",
    "        print(\"This Employ has been Removed from the Employ List : {}\".format(remove))\n",
    "    def info(self):\n",
    "        print(self.List_Of_Employees)"
   ]
  },
  {
   "cell_type": "code",
   "execution_count": 63,
   "metadata": {},
   "outputs": [],
   "source": [
    "class Employee():\n",
    "    def __init__(self,name,salary,department):\n",
    "        self.name = name \n",
    "        self.salary = salary \n",
    "        self.department = department\n",
    "        "
   ]
  },
  {
   "cell_type": "code",
   "execution_count": 64,
   "metadata": {},
   "outputs": [],
   "source": [
    "class Manager(Employee):\n",
    "    def __init__(self):\n",
    "        super().__init__(name,salary,department)\n",
    "        \n",
    "    def AssignTask(self,taskName):\n",
    "        print(\"Your task is {}\".format(taskName))\n",
    "        \n",
    "    "
   ]
  },
  {
   "cell_type": "code",
   "execution_count": 65,
   "metadata": {},
   "outputs": [],
   "source": [
    "class Staff(Employee):\n",
    "    def __init__(self,name,salary,department):\n",
    "        super().__init__(name,salary,department)\n",
    "        \n",
    "    def AttendMeeting(self,meeting):\n",
    "        print(\"Attending meeting: {}\".format(meeting))"
   ]
  },
  {
   "cell_type": "code",
   "execution_count": 66,
   "metadata": {},
   "outputs": [],
   "source": [
    "department = Department()"
   ]
  },
  {
   "cell_type": "code",
   "execution_count": 67,
   "metadata": {},
   "outputs": [],
   "source": [
    "department.Add_Employ(\"Mohan\")"
   ]
  },
  {
   "cell_type": "code",
   "execution_count": 68,
   "metadata": {},
   "outputs": [],
   "source": [
    "department.Add_Employ(\"Kevin\")"
   ]
  },
  {
   "cell_type": "code",
   "execution_count": 69,
   "metadata": {},
   "outputs": [],
   "source": [
    "department.Add_Employ(\"Kelvin\")"
   ]
  },
  {
   "cell_type": "code",
   "execution_count": 70,
   "metadata": {},
   "outputs": [],
   "source": [
    "department.Add_Employ(\"Poopy\")"
   ]
  },
  {
   "cell_type": "code",
   "execution_count": 71,
   "metadata": {},
   "outputs": [],
   "source": [
    "department.Add_Employ(\"Usha\")"
   ]
  },
  {
   "cell_type": "code",
   "execution_count": 72,
   "metadata": {},
   "outputs": [
    {
     "name": "stdout",
     "output_type": "stream",
     "text": [
      "['Mohan', 'Kevin', 'Kelvin', 'Poopy', 'Usha']\n"
     ]
    }
   ],
   "source": [
    "department.info()"
   ]
  },
  {
   "cell_type": "code",
   "execution_count": 73,
   "metadata": {},
   "outputs": [
    {
     "name": "stdout",
     "output_type": "stream",
     "text": [
      "This Employ has been Removed from the Employ List : Mohan\n"
     ]
    }
   ],
   "source": [
    "department.Remove_Employ(\"Mohan\")"
   ]
  },
  {
   "cell_type": "markdown",
   "metadata": {},
   "source": [
    "# ASSIGNMENT - 10"
   ]
  },
  {
   "cell_type": "markdown",
   "metadata": {},
   "source": [
    "Bank Transactions: Create a base class called BankAccount with attributes such as account_number and balance. Implement subclasses for different types of accounts such as CheckingAccount and SavingsAccount that inherit from BankAccount. Add additional methods to the subclasses, such as withdraw() and deposit(), and handle any specific behavior or rules for each account type."
   ]
  },
  {
   "cell_type": "code",
   "execution_count": 77,
   "metadata": {},
   "outputs": [],
   "source": [
    "class BankTransaction():\n",
    "    def BankAccount(self,account_number,balance):\n",
    "        self.account_number = account_number\n",
    "        self.balance = balance\n",
    "        "
   ]
  },
  {
   "cell_type": "markdown",
   "metadata": {},
   "source": [
    "A savings account comes with a passbook and cheque book feature.\n",
    "You can receive payments and make payments from your savings accounts.\n",
    "Auto debits and auto credits can be set up from your savings accounts.\n",
    "Savings bank account holders can access internet banking and  mobile banking for their needs.\n",
    "Banks offer ATM cum debit cards to savings bank account holders.\n",
    "A savings bank account earns low interest rate but allows the customer the freedom to withdraw funds at any time subject to a limit on monthly withdrawals.\n",
    "It is possible to pay bills from your savings account.\n",
    "Banks also send transaction alerts to their customers via SMSand email as a part of SMS banking services ."
   ]
  },
  {
   "cell_type": "code",
   "execution_count": 78,
   "metadata": {},
   "outputs": [],
   "source": [
    "class CheckingAccount(BankTransaction):\n",
    "    def __init__(self,account_number,balance):\n",
    "        super().__init__(account_number,balance)\n",
    "    def deposit(self,deposit):\n",
    "        self.balance+= deposit\n",
    "        \n",
    "    def withdraw(self,amount):\n",
    "        self.balance -= amount\n",
    "        \n",
    "    "
   ]
  },
  {
   "cell_type": "code",
   "execution_count": 80,
   "metadata": {},
   "outputs": [],
   "source": [
    "class SavingAccount(BankTransaction):\n",
    "    def __init__(self,account_number,balance):\n",
    "        super().__init__(account_number,balance)\n",
    "    def deposit(self,deposit):\n",
    "        self.balance+= deposit\n",
    "        \n",
    "    def withdraw(self,amount):\n",
    "        self.balance -= amount\n",
    "        \n",
    "    def Online(self):\n",
    "        print(\"if the amount is paid in online mode then the customer do not have to go in Actual bank \")"
   ]
  },
  {
   "cell_type": "markdown",
   "metadata": {},
   "source": [
    "# ASSIGNMENT - 11"
   ]
  },
  {
   "cell_type": "markdown",
   "metadata": {},
   "source": [
    "School Management System: Create a base class called Person with attributes such as name, age, and address. Implement subclasses for different roles such as Student, Teacher, and Staff that inherit from Person. Add additional methods to the subclasses, such as take_exam() for students and teach_subject() for teachers."
   ]
  },
  {
   "cell_type": "code",
   "execution_count": 81,
   "metadata": {},
   "outputs": [],
   "source": [
    "class Person():\n",
    "    def __init__(self,name,age,address):\n",
    "        self.name = name \n",
    "        self.age = age\n",
    "        self.address = address\n",
    "        "
   ]
  },
  {
   "cell_type": "code",
   "execution_count": 84,
   "metadata": {},
   "outputs": [],
   "source": [
    "class Student(Person):\n",
    "    def __init__(self,name,age,address,standard,Subject,section):\n",
    "        super().__init__(name,age,address)\n",
    "        self.standard = standard \n",
    "        self.Subject = Subject\n",
    "        self.section = section \n",
    "        \n",
    "    def StudentIntro(self):\n",
    "        print(\"Name : {}\\nAge :{}\\nAddress :{}\\nstandard :{}\\nSubject :{}\\nSection :{}\".format(self.name,self.age,self.address,self.standard,self.Subject,self.section))\n",
    "    \n",
    "    def take_exam(self):\n",
    "        print(\"You can give the exam \")\n",
    "        \n",
    "        "
   ]
  },
  {
   "cell_type": "code",
   "execution_count": 85,
   "metadata": {},
   "outputs": [],
   "source": [
    "class Teacher(Person):\n",
    "    def __init__(self,name,age,address,Subject,section,Experience):\n",
    "        super().__init__(name,age,address)\n",
    "        self.standard = standard \n",
    "        self.Subject = Subject\n",
    "        self.section = section \n",
    "        self.Experience = Experience\n",
    "        \n",
    "    def TeacherIntro(self):\n",
    "        print(\"Name : {}\\nAge :{}\\nAddress :{}\\nSubject :{}\\nSection :{}\\nExperience :{}\".format(self.name,self.age,self.address,self.Subject,self.Experience))\n",
    "        \n",
    "        \n",
    "    def TeachSubject(self):\n",
    "        print(\"You can teach the subject: {}\".format(self.Subject))"
   ]
  },
  {
   "cell_type": "code",
   "execution_count": null,
   "metadata": {},
   "outputs": [],
   "source": [
    "class Staff(Person):\n",
    "    def __init__(self,name,age,address,Experience):\n",
    "        super().__init__(name,age,address)\n",
    "        self.Experience = Experience\n",
    "        \n",
    "    def staffIntro(self):\n",
    "        print(\"Name : {}\\nAge :{}\\nAddress :{}\\nExperience :{}\".format(self.name,self.age,self.address,self.Experience))\n",
    "        "
   ]
  }
 ],
 "metadata": {
  "colab": {
   "provenance": []
  },
  "kernelspec": {
   "display_name": "Python 3 (ipykernel)",
   "language": "python",
   "name": "python3"
  },
  "language_info": {
   "codemirror_mode": {
    "name": "ipython",
    "version": 3
   },
   "file_extension": ".py",
   "mimetype": "text/x-python",
   "name": "python",
   "nbconvert_exporter": "python",
   "pygments_lexer": "ipython3",
   "version": "3.9.13"
  }
 },
 "nbformat": 4,
 "nbformat_minor": 1
}
